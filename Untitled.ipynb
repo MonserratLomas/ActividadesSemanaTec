{
 "cells": [
  {
   "cell_type": "code",
   "execution_count": null,
   "id": "f4345fe3-b020-41d9-ad92-737c9db9d76a",
   "metadata": {},
   "outputs": [],
   "source": [
    "Carga de datos con Pandas/ Monserrat/ A01384654"
   ]
  }
 ],
 "metadata": {
  "kernelspec": {
   "display_name": "Python 3 (ipykernel)",
   "language": "python",
   "name": "python3"
  },
  "language_info": {
   "codemirror_mode": {
    "name": "ipython",
    "version": 3
   },
   "file_extension": ".py",
   "mimetype": "text/x-python",
   "name": "python",
   "nbconvert_exporter": "python",
   "pygments_lexer": "ipython3",
   "version": "3.13.3"
  }
 },
 "nbformat": 4,
 "nbformat_minor": 5
}
